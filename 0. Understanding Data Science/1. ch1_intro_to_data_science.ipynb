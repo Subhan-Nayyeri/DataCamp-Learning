{
 "cells": [
  {
   "cell_type": "markdown",
   "metadata": {},
   "source": [
    "# **CH 01: INTRODUCTION TO DATA SCIENCE**"
   ]
  },
  {
   "cell_type": "markdown",
   "metadata": {},
   "source": [
    "---"
   ]
  },
  {
   "cell_type": "markdown",
   "metadata": {},
   "source": [
    "## **1. What is data science?**\n",
    "\n",
    "**`Data science is the field of study that uses different methods to collect and analyze large amounts of data to find hidden insights. This information can then be used to make informed decisions and solve real-world problems.`**"
   ]
  },
  {
   "cell_type": "markdown",
   "metadata": {},
   "source": [
    "##### _**(a) What can data do?**_\n",
    "\n",
    "Data can:\n",
    "\n",
    "* **Describe:** Show the current state of an organization or process using dashboards and reports.\n",
    "\n",
    "* **Detect:** Find unusual events, such as fraudulent purchases or suspicious activity.\n",
    "\n",
    "* **Diagnose:** Identify the causes of events and behaviors, such as why customers are leaving.\n",
    "\n",
    "* **Predict:** Forecast future events, such as how likely a customer is to buy a product.\n",
    "\n"
   ]
  },
  {
   "cell_type": "markdown",
   "metadata": {},
   "source": [
    "##### _**(b) The Data Science Workflow**_"
   ]
  },
  {
   "cell_type": "markdown",
   "metadata": {},
   "source": [
    "\n",
    "Step | Expainition | Example\n",
    "---------|----------|---------\n",
    " **Data Collection and Storage** | In this step, data scientists collect data from a variety of sources, such as databases, surveys, and social media. The data can be structured (e.g., a spreadsheet of customer data) or unstructured (e.g., text reviews of products). | A data scientist at a retail company might collect data on customer purchases, product ratings, and website traffic.\n",
    "**Data Preparation & Cleaning** | Once the data has been collected, it needs to be prepared for analysis. This may involve cleaning the data to remove errors and inconsistencies, transforming the data into a format that is compatible with the chosen analysis tools, and merging data from multiple sources. | The data scientist might remove any duplicate purchase records, convert all currency values to USD, and merge the customer purchase data with the product rating data.\n",
    " **Data Exploration & Visualization** | In this step, data scientists use a variety of tools to explore the data and identify patterns and trends. They may also create visualizations, such as charts and graphs, to communicate their findings to others. | The data scientist might use a data visualization tool to create a bar chart showing the top-selling products by category.\n",
    "**Experimentation & Prediction** | In the final step, data scientists build and evaluate predictive models. These models can be used to forecast future events, such as which customers are most likely to churn or which products are most likely to sell well. | The data scientist might build a machine learning model to predict which customers are likely to churn within the next month. This model could then be used to target these customers with retention campaigns.\n",
    "\n",
    ">Note: The data science workflow is not always linear. Data scientists may need to go back and forth between steps as they learn more about the data and the problem they are trying to solve"
   ]
  },
  {
   "cell_type": "markdown",
   "metadata": {},
   "source": [
    "---"
   ]
  },
  {
   "cell_type": "markdown",
   "metadata": {},
   "source": [
    "## **2. Applications of Data Science**"
   ]
  },
  {
   "cell_type": "markdown",
   "metadata": {},
   "source": [
    "Following are the 3 exciting areas of data science:\n",
    "\n",
    "1. Traditional Machine Learning\n",
    "2. Internet of Things (IoT)\n",
    "3. Deep Learning\n",
    "\n",
    "Areas of Data Science | Explainition | Example\n",
    "---------|----------|---------\n",
    " **Traditional Machine Learning** | Traditional machine learning (TML) is a type of artificial intelligence (AI) that uses algorithms to learn from data and make predictions. TML algorithms are typically trained on labeled data, where the input data is paired with the desired output. | A TML algorithm could be trained on a dataset of images of cats and dogs, labeled with the correct animal in each image. Once the algorithm is trained, it could be used to predict whether a new image contains a cat or a dog.\n",
    " **Internet of Things** | Internet of Things (IoT) is a network of physical devices that are connected to the internet and can collect and exchange data. IoT devices are used in a wide range of industries, including healthcare, manufacturing, and transportation. | An IoT smart thermostat can collect data on the temperature in a room and adjust the thermostat accordingly.\n",
    " **Deep Learning** | Deep learning (DL) is a type of machine learning that uses artificial neural networks to learn from data. DL algorithms are able to learn complex patterns that are difficult for traditional machine learning algorithms to learn. | A DL algorithm could be used to develop a system that can automatically identify cancer cells in medical images."
   ]
  },
  {
   "cell_type": "markdown",
   "metadata": {},
   "source": [
    "#### _**(a) Difference between Machine Learning and Deep Learning:**_\n",
    "\n",
    "**Imagine you are trying to teach a computer to recognize different types of flowers**\n",
    "\n",
    "\n",
    "Machine Learning | Deep Learning \n",
    "---------|----------\n",
    " With TML, you would need to create a dataset of images of flowers, labeled with the type of flower in each image.| With DL, you would not need to label the images of flowers.  \n",
    " You would then train a TML algorithm on this dataset. | Instead, you would train a DL algorithm on a dataset of unlabeled images of flowers. \n",
    " Once the algorithm is trained, you could use it to predict the type of flower in a new image. | The DL algorithm would learn to identify different types of flowers by automatically extracting features from the images. "
   ]
  },
  {
   "cell_type": "markdown",
   "metadata": {},
   "source": [
    "---"
   ]
  },
  {
   "cell_type": "markdown",
   "metadata": {},
   "source": [
    "#### _**(b) Roles in Data Science Industry**_"
   ]
  },
  {
   "cell_type": "markdown",
   "metadata": {},
   "source": [
    "1. Data Engineer\n",
    "2. Data Analyst\n",
    "3. Data Scientist\n",
    "4. Machine Learning Engineer"
   ]
  },
  {
   "cell_type": "markdown",
   "metadata": {},
   "source": [
    "**Data engineer**\n",
    "\n",
    "* Builds and maintains the infrastructure for data collection, storage, and processing.\n",
    "\n",
    "* Ensures that data is accessible and secure.\n",
    "\n",
    "* Develops and automates data pipelines.\n",
    "\n",
    "* **Data Science Workflow:** Work in Data Collection and Storage\n",
    "\n",
    "**Data scientist**\n",
    "\n",
    "* Develops and applies machine learning algorithms to solve complex problems.\n",
    "\n",
    "* Uses data to identify patterns and trends.\n",
    "\n",
    "* Builds and evaluates predictive models.\n",
    "\n",
    "* Communicates insights to stakeholders.\n",
    "\n",
    "* **Data Science Workflow:** Work in Data Preparation, Exploration and Visualization, Experimentation and Prediction\n",
    "\n",
    "**Machine learning engineer**\n",
    "\n",
    "* Builds and deploys machine learning models to production environments.\n",
    "\n",
    "* Develops and maintains machine learning pipelines.\n",
    "\n",
    "* Optimizes machine learning models for performance and scalability.\n",
    "\n",
    "* **Data Science Workflow:** Work in Experimentation and Prediction\n",
    "\n",
    "**Data analyst**\n",
    "\n",
    "* Collects, cleans, and analyzes data to identify patterns and trends.\n",
    "\n",
    "* Communicates insights to stakeholders using data visualizations and reports.\n",
    "\n",
    "* Supports data scientists and machine learning engineers in their work.\n",
    "\n",
    "* **Data Science Workflow:** Work in Data Preparation, Exploration and Visualization"
   ]
  }
 ],
 "metadata": {
  "language_info": {
   "name": "python"
  }
 },
 "nbformat": 4,
 "nbformat_minor": 2
}
